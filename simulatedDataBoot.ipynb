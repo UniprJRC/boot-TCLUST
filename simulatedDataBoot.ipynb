{
 "cells": [
  {
   "cell_type": "markdown",
   "metadata": {},
   "source": [
    "\n",
    "# <span style=\"color:rgb(213,80,0)\">Generate Table 2 and Figure  2 of the paper Choice of trimming proportion and number of clusters in robust clustering based on trimming  </span>\n",
    "\n",
    "### Luis A. García\\-Escudero, Christian Hennig, Agustin Mayo Iscar,  Gianluca Morelli, Marco Riani,\n",
    "\n",
    "Remark: we assume that you have FSDA installed, at least version 8.7.7.5\n",
    "\n",
    "## Simulated data"
   ]
  },
  {
   "cell_type": "code",
   "execution_count": 1,
   "metadata": {},
   "source": [
    "% Load the GHMMR dataset\n",
    "load GHMMR.mat\n",
    "Y = table2array(GHMMR(:,1:2));"
   ],
   "outputs": []
  },
  {
   "cell_type": "code",
   "execution_count": 2,
   "metadata": {},
   "source": [
    "k = 1:8; % number of groups to test\n",
    "alphaTrim = 0.00:0.025:0.2; % level of trimmin to test\n",
    "cc = 50; % restriction factor\n",
    "nsamp =  1000; % number of  subsets\n",
    "nsimul = 1000; % number of replicates\n",
    "crit = 0.1; % p-value threshold\n",
    "\n",
    "bands=struct;\n",
    "bands.nsimul=nsimul;\n",
    "bands.outliersFromUniform = 1;\n",
    "bands.crit=crit;\n",
    "[outCTL] = ctlcurves(Y(:,1:end), 'alpha',alphaTrim,'kk',k,'bands',bands, 'restrfactor',cc, 'nsamp',nsamp,'plots',0);"
   ],
   "outputs": [
    {
     "data": {
      "text/plain": [
       "k=1\n",
       "k=2\n",
       "k=3\n",
       "k=4\n",
       "k=5\n",
       "k=6\n",
       "k=7\n",
       "k=8\n",
       "Bands k=1"
      ]
     },
     "metadata": {},
     "execution_count":  2,
     "output_type": "execute_result"
    }
   ]
  },
  {
   "cell_type": "code",
   "execution_count": 3,
   "metadata": {},
   "source": [
    "disp('Show the Values of p_{k,α}')\n",
    "disp(outCTL.LRTpval)\n",
    "\n",
    "[~,index]=unique(outCTL.LRTtentSolt.k,'stable');\n",
    "Solt=outCTL.LRTtentSolt(index,:);\n",
    "Sol=outCTL.LRTtentSol(index,:);\n",
    "SolIdx=outCTL.LRTtentSolIDX(:,index);\n",
    "disp('Show the list of tentative solutions automatically extracted')\n",
    "disp(Solt(:,1:3))\n",
    "disp(Solt(:,1:3))\n",
    ""
   ],
   "outputs": []
  },
  {
   "cell_type": "markdown",
   "metadata": {},
   "source": [
    "### Show the solutions automatically found (Figure 2)\n",
    "\n",
    "Remark: note that in the live version the legends are clickable and it is possible to hide/show the single groups\n",
    ""
   ]
  },
  {
   "cell_type": "code",
   "execution_count": 4,
   "metadata": {},
   "source": [
    "for j=Sol(:,2)'\n",
    "    solj=Sol(:,2)==j;\n",
    "\n",
    "    spmplot(Y,'group',SolIdx(:,solj) ,'tag',['pl' num2str(j)]);\n",
    "    sgtitle(['Solution with ' num2str(Sol(solj,2)) ' groups, alpha= ' num2str(Sol(solj,3))])\n",
    "end\n",
    ""
   ],
   "outputs": []
}
 ],
 "metadata": {
  "kernelspec": {
   "display_name": "MATLAB (matlabkernel)",
   "language": "matlab",
   "name": "matlab"
  },
  "language_info": {
   "file_extension": ".m",
   "mimetype": "text/matlab",
   "name": "matlab",
   "nbconvert_exporter": "matlab",
   "pygments_lexer": "matlab",
   "version": "24.2.0.2806996"
  }
 },
 "nbformat": 4,
 "nbformat_minor": 4
}